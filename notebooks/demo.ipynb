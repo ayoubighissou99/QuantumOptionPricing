{
 "cells": [
  {
   "cell_type": "code",
   "execution_count": null,
   "id": "c5c8c969",
   "metadata": {},
   "outputs": [],
   "source": [
    "import os\n",
    "import numpy as np\n",
    "import pandas as pd\n",
    "import matplotlib.pyplot as plt\n",
    "import seaborn as sns\n",
    "import time\n",
    "from datetime import datetime\n",
    "\n",
    "# Configurazione per i grafici\n",
    "sns.set_theme()\n",
    "plt.style.use('seaborn-v0_8-whitegrid')"
   ]
  },
  {
   "cell_type": "code",
   "execution_count": 2,
   "id": "1f811cc2",
   "metadata": {},
   "outputs": [
    {
     "data": {
      "text/plain": [
       "'/Users/ayoubeighissou/Documents/QuantumOptionPricing'"
      ]
     },
     "execution_count": 2,
     "metadata": {},
     "output_type": "execute_result"
    }
   ],
   "source": [
    "import sys\n",
    "\n",
    "# Aggiungi la directory principale del progetto al path\n",
    "module_path = os.path.abspath(os.path.join('..'))\n",
    "if module_path not in sys.path:\n",
    "    sys.path.append(module_path)\n",
    "    \n",
    "module_path"
   ]
  },
  {
   "cell_type": "code",
   "execution_count": null,
   "id": "e0d60be3",
   "metadata": {},
   "outputs": [
    {
     "ename": "ImportError",
     "evalue": "cannot import name 'QuantumCircuit' from 'qiskit' (unknown location)",
     "output_type": "error",
     "traceback": [
      "\u001b[31m---------------------------------------------------------------------------\u001b[39m",
      "\u001b[31mImportError\u001b[39m                               Traceback (most recent call last)",
      "\u001b[36mCell\u001b[39m\u001b[36m \u001b[39m\u001b[32mIn[4]\u001b[39m\u001b[32m, line 6\u001b[39m\n\u001b[32m      3\u001b[39m \u001b[38;5;28;01mfrom\u001b[39;00m\u001b[38;5;250m \u001b[39m\u001b[34;01mmodels\u001b[39;00m\u001b[34;01m.\u001b[39;00m\u001b[34;01mclassical\u001b[39;00m\u001b[34;01m.\u001b[39;00m\u001b[34;01mmonte_carlo\u001b[39;00m\u001b[38;5;250m \u001b[39m\u001b[38;5;28;01mimport\u001b[39;00m MonteCarloSimulator\n\u001b[32m      5\u001b[39m \u001b[38;5;66;03m# quantum models\u001b[39;00m\n\u001b[32m----> \u001b[39m\u001b[32m6\u001b[39m \u001b[38;5;28;01mfrom\u001b[39;00m\u001b[38;5;250m \u001b[39m\u001b[34;01mmodels\u001b[39;00m\u001b[34;01m.\u001b[39;00m\u001b[34;01mquantum\u001b[39;00m\u001b[34;01m.\u001b[39;00m\u001b[34;01mqae_pricing\u001b[39;00m\u001b[38;5;250m \u001b[39m\u001b[38;5;28;01mimport\u001b[39;00m QuantumAmplitudeEstimationPricer, QuantumMonteCarloPricer\n\u001b[32m      8\u001b[39m \u001b[38;5;66;03m# Utilities\u001b[39;00m\n\u001b[32m      9\u001b[39m \u001b[38;5;28;01mfrom\u001b[39;00m\u001b[38;5;250m \u001b[39m\u001b[34;01mutils\u001b[39;00m\u001b[34;01m.\u001b[39;00m\u001b[34;01mdata_loader\u001b[39;00m\u001b[38;5;250m \u001b[39m\u001b[38;5;28;01mimport\u001b[39;00m generate_synthetic_option_data, save_synthetic_data\n",
      "\u001b[36mFile \u001b[39m\u001b[32m~/Documents/QuantumOptionPricing/models/quantum/__init__.py:8\u001b[39m\n\u001b[32m      1\u001b[39m \u001b[33;03m\"\"\"\u001b[39;00m\n\u001b[32m      2\u001b[39m \u001b[33;03mQuantum models for option pricing.\u001b[39;00m\n\u001b[32m      3\u001b[39m \n\u001b[32m      4\u001b[39m \u001b[33;03mThis package contains various quantum algorithms for pricing financial derivatives.\u001b[39;00m\n\u001b[32m      5\u001b[39m \u001b[33;03mThis is a simplified version that avoids problematic imports.\u001b[39;00m\n\u001b[32m      6\u001b[39m \u001b[33;03m\"\"\"\u001b[39;00m\n\u001b[32m----> \u001b[39m\u001b[32m8\u001b[39m \u001b[38;5;28;01mfrom\u001b[39;00m\u001b[38;5;250m \u001b[39m\u001b[34;01mmodels\u001b[39;00m\u001b[34;01m.\u001b[39;00m\u001b[34;01mquantum\u001b[39;00m\u001b[34;01m.\u001b[39;00m\u001b[34;01mqae_pricing\u001b[39;00m\u001b[38;5;250m \u001b[39m\u001b[38;5;28;01mimport\u001b[39;00m (\n\u001b[32m      9\u001b[39m     QuantumAmplitudeEstimationPricer,\n\u001b[32m     10\u001b[39m     QuantumMonteCarloPricer\n\u001b[32m     11\u001b[39m )\n\u001b[32m     12\u001b[39m \u001b[38;5;28;01mfrom\u001b[39;00m\u001b[38;5;250m \u001b[39m\u001b[34;01mmodels\u001b[39;00m\u001b[34;01m.\u001b[39;00m\u001b[34;01mquantum\u001b[39;00m\u001b[34;01m.\u001b[39;00m\u001b[34;01mqmc_advanced\u001b[39;00m\u001b[38;5;250m \u001b[39m\u001b[38;5;28;01mimport\u001b[39;00m (\n\u001b[32m     13\u001b[39m     PennyLaneQuantumMonteCarlo,\n\u001b[32m     14\u001b[39m     QuantumKitaevPricer\n\u001b[32m     15\u001b[39m )\n\u001b[32m     17\u001b[39m __all__ = [\n\u001b[32m     18\u001b[39m     \u001b[33m'\u001b[39m\u001b[33mQuantumAmplitudeEstimationPricer\u001b[39m\u001b[33m'\u001b[39m,\n\u001b[32m     19\u001b[39m     \u001b[33m'\u001b[39m\u001b[33mQuantumMonteCarloPricer\u001b[39m\u001b[33m'\u001b[39m,\n\u001b[32m     20\u001b[39m     \u001b[33m'\u001b[39m\u001b[33mPennyLaneQuantumMonteCarlo\u001b[39m\u001b[33m'\u001b[39m,\n\u001b[32m     21\u001b[39m     \u001b[33m'\u001b[39m\u001b[33mQuantumKitaevPricer\u001b[39m\u001b[33m'\u001b[39m\n\u001b[32m     22\u001b[39m ]\n",
      "\u001b[36mFile \u001b[39m\u001b[32m~/Documents/QuantumOptionPricing/models/quantum/qae_pricing.py:9\u001b[39m\n\u001b[32m      1\u001b[39m \u001b[33;03m\"\"\"\u001b[39;00m\n\u001b[32m      2\u001b[39m \u001b[33;03mQuantum Amplitude Estimation (QAE) for option pricing.\u001b[39;00m\n\u001b[32m      3\u001b[39m \n\u001b[32m      4\u001b[39m \u001b[33;03mThis module implements simplified quantum algorithms for pricing European options\u001b[39;00m\n\u001b[32m      5\u001b[39m \u001b[33;03musing Quantum Amplitude Estimation (QAE) and Quantum Monte Carlo.\u001b[39;00m\n\u001b[32m      6\u001b[39m \u001b[33;03m\"\"\"\u001b[39;00m\n\u001b[32m      8\u001b[39m \u001b[38;5;28;01mimport\u001b[39;00m\u001b[38;5;250m \u001b[39m\u001b[34;01mnumpy\u001b[39;00m\u001b[38;5;250m \u001b[39m\u001b[38;5;28;01mas\u001b[39;00m\u001b[38;5;250m \u001b[39m\u001b[34;01mnp\u001b[39;00m\n\u001b[32m----> \u001b[39m\u001b[32m9\u001b[39m \u001b[38;5;28;01mfrom\u001b[39;00m\u001b[38;5;250m \u001b[39m\u001b[34;01mqiskit\u001b[39;00m\u001b[38;5;250m \u001b[39m\u001b[38;5;28;01mimport\u001b[39;00m  QuantumCircuit, execute, transpile\n\u001b[32m     10\u001b[39m \u001b[38;5;28;01mfrom\u001b[39;00m\u001b[38;5;250m \u001b[39m\u001b[34;01mqiskit_aer\u001b[39;00m\u001b[38;5;250m \u001b[39m\u001b[38;5;28;01mimport\u001b[39;00m Aer\n\u001b[32m     11\u001b[39m \u001b[38;5;28;01mfrom\u001b[39;00m\u001b[38;5;250m \u001b[39m\u001b[34;01mqiskit\u001b[39;00m\u001b[34;01m.\u001b[39;00m\u001b[34;01mcircuit\u001b[39;00m\u001b[34;01m.\u001b[39;00m\u001b[34;01mlibrary\u001b[39;00m\u001b[38;5;250m \u001b[39m\u001b[38;5;28;01mimport\u001b[39;00m QFT\n",
      "\u001b[31mImportError\u001b[39m: cannot import name 'QuantumCircuit' from 'qiskit' (unknown location)"
     ]
    }
   ],
   "source": [
    "# classical models\n",
    "from models.classical.black_scholes import black_scholes_price, calculate_greeks\n",
    "from models.classical.monte_carlo import MonteCarloSimulator\n",
    "\n",
    "# quantum models\n",
    "from models.quantum.qae_pricing import QuantumAmplitudeEstimationPricer, QuantumMonteCarloPricer\n",
    "\n",
    "# utilities\n",
    "from utils.data_loader import generate_synthetic_option_data, save_synthetic_data\n",
    "from utils.plotting import plot_option_price_comparison, plot_option_price_vs_strike, plot_option_greeks\n",
    "from utils.metrics import PerformanceTracker, compare_model_results"
   ]
  },
  {
   "cell_type": "code",
   "execution_count": null,
   "id": "a12e6da2",
   "metadata": {},
   "outputs": [],
   "source": [
    "print(\"Setting up test parameters...\")\n",
    "spot_price = 100.0\n",
    "strike_price = 100.0\n",
    "time_to_maturity = 1.0  # 1 anno\n",
    "risk_free_rate = 0.02   # 2%\n",
    "volatility = 0.2        # 20%\n",
    "is_call = True          # Option type: Call\n",
    "\n",
    "print(f\"Test Parameters:\")\n",
    "print(f\"Spot Price: ${spot_price}\")\n",
    "print(f\"Strike Price: ${strike_price}\")\n",
    "print(f\"Time to Maturity: {time_to_maturity} years\")\n",
    "print(f\"Risk-Free Rate: {risk_free_rate*100:.1f}%\")\n",
    "print(f\"Volatility: {volatility*100:.1f}%\")\n",
    "print(f\"Option Type: {'Call' if is_call else 'Put'}\")"
   ]
  },
  {
   "cell_type": "code",
   "execution_count": null,
   "id": "35617e02",
   "metadata": {},
   "outputs": [],
   "source": [
    "# compute BS price\n",
    "print(\"\\nCalculating Black-Scholes price...\")\n",
    "bs_price = black_scholes_price(\n",
    "    spot_price=spot_price,\n",
    "    strike_price=strike_price,\n",
    "    time_to_maturity=time_to_maturity,\n",
    "    risk_free_rate=risk_free_rate,\n",
    "    volatility=volatility,\n",
    "    is_call=is_call\n",
    ")\n",
    "\n",
    "print(f\"Black-Scholes Price: ${bs_price:.4f}\")"
   ]
  },
  {
   "cell_type": "code",
   "execution_count": null,
   "id": "ec5f2be4",
   "metadata": {},
   "outputs": [],
   "source": [
    "print(\"\\nCalculating Monte Carlo price...\")\n",
    "mc_simulator = MonteCarloSimulator(num_simulations=10000)\n",
    "mc_result = mc_simulator.price_european_option(\n",
    "    spot_price=spot_price,\n",
    "    strike_price=strike_price,\n",
    "    time_to_maturity=time_to_maturity,\n",
    "    risk_free_rate=risk_free_rate,\n",
    "    volatility=volatility,\n",
    "    is_call=is_call\n",
    ")\n",
    "\n",
    "print(f\"Monte Carlo Price: ${mc_result['price']:.4f}\")\n",
    "print(f\"Monte Carlo 95% Confidence Interval: [${mc_result['confidence_interval_95'][0]:.4f}, ${mc_result['confidence_interval_95'][1]:.4f}]\")"
   ]
  },
  {
   "cell_type": "code",
   "execution_count": null,
   "id": "66c8487d",
   "metadata": {},
   "outputs": [],
   "source": [
    "print(\"\\nCalculating Quantum Amplitude Estimation price...\")\n",
    "qae_pricer = QuantumAmplitudeEstimationPricer(\n",
    "    num_uncertainty_qubits=3,\n",
    "    num_evaluation_qubits=3,\n",
    "    shots=1024\n",
    ")\n",
    "\n",
    "qae_result = qae_pricer.price_option(\n",
    "    spot_price=spot_price,\n",
    "    strike_price=strike_price,\n",
    "    volatility=volatility,\n",
    "    risk_free_rate=risk_free_rate,\n",
    "    time_to_maturity=time_to_maturity,\n",
    "    is_call=is_call\n",
    ")\n",
    "\n",
    "print(f\"Quantum Amplitude Estimation Price: ${qae_result['price']:.4f}\")\n",
    "print(f\"QAE Confidence Interval: [${qae_result['confidence_interval'][0]:.4f}, ${qae_result['confidence_interval'][1]:.4f}]\")\n",
    "print(f\"Circuit Depth: {qae_result['circuit_depth']}\")\n",
    "print(f\"Number of Qubits: {qae_result['num_qubits']}\")"
   ]
  }
 ],
 "metadata": {
  "kernelspec": {
   "display_name": "qopvenv",
   "language": "python",
   "name": "python3"
  },
  "language_info": {
   "codemirror_mode": {
    "name": "ipython",
    "version": 3
   },
   "file_extension": ".py",
   "mimetype": "text/x-python",
   "name": "python",
   "nbconvert_exporter": "python",
   "pygments_lexer": "ipython3",
   "version": "3.11.3"
  }
 },
 "nbformat": 4,
 "nbformat_minor": 5
}
